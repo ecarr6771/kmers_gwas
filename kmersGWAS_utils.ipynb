{
 "cells": [
  {
   "cell_type": "markdown",
   "id": "e40c7620",
   "metadata": {},
   "source": [
    "# Accessions List\n",
    "To run the pipeline more efficiently, I wanted to break up the 216 accessions into sets of 18, with each taking less than a day to run."
   ]
  },
  {
   "cell_type": "code",
   "execution_count": 4,
   "id": "e6921617",
   "metadata": {},
   "outputs": [],
   "source": [
    "import pandas as pd"
   ]
  },
  {
   "cell_type": "code",
   "execution_count": 5,
   "id": "b5b7cb99",
   "metadata": {},
   "outputs": [],
   "source": [
    "# read in the list of all the accessions with phenotypes\n",
    "# df = pd.read_csv(\"/Users/eleanor/Documents/Spring2024/Frontiers/voichek_pipeline/accessions.csv\")"
   ]
  },
  {
   "cell_type": "code",
   "execution_count": 10,
   "id": "b0fcad5f",
   "metadata": {},
   "outputs": [],
   "source": [
    "# an empty list to store the accessions in, will be subset later\n",
    "# into subsets of size 18\n",
    "# ls = []\n",
    "\n",
    "# for i in df['x']:\n",
    "# #     string = \"\\\"\" + i + \"\\\"\"\n",
    "#     string = i\n",
    "#     ls.append(string)\n",
    "\n",
    "# # for the 216 accessions, step through them 18 at a time\n",
    "# for j in range(0,216,18):\n",
    "    \n",
    "#     # a temporary list for holding the subsets\n",
    "#     ls1 = []\n",
    "    \n",
    "#     # add the slice of accessions to the temporary list\n",
    "#     ls1.append(ls[j:j+18])\n",
    "    \n",
    "#     # coerce them into a dataframe and write them out to a file\n",
    "#     # with the number subset in the filename\n",
    "#     df1 = pd.DataFrame(ls1)\n",
    "#     filename = \"run\" + str(int(j/18)) + \".tsv\"\n",
    "#     df1.to_csv(filename, sep = ' ', header = False, index = False)"
   ]
  },
  {
   "cell_type": "markdown",
   "id": "e3875ef8",
   "metadata": {},
   "source": [
    "# Genotypes List\n",
    "It became useful to narrow down the list of accessions with phenotypes to only those that also had genotypes. This `.csv` file contains the list of accessions with genotypes. The overlapping list was generated manually in Excel."
   ]
  },
  {
   "cell_type": "code",
   "execution_count": 26,
   "id": "e4a9005f",
   "metadata": {},
   "outputs": [],
   "source": [
    "# # read in the file of accessions with genotypes\n",
    "# df1 = pd.read_csv(\"/Users/eleanor/Documents/Spring2024/Frontiers/voichek_pipeline/genotype_accessions.csv\", header = None)\n",
    "\n",
    "# # an empty list for putting the accessions into\n",
    "# ls1 = []\n",
    "\n",
    "# # for each of the accessions in the .csv file\n",
    "# for x in range(len(df1)):\n",
    "    \n",
    "#     # add each of the accessions to the empty list\n",
    "#     # splitting the list elements into sub-list columns\n",
    "#     ls1.append(df1.iloc[x,0].strip('\\xa0').split())\n",
    "\n",
    "# # now we have a nested list that can be coerced into a DataFrame\n",
    "# df2 = pd.DataFrame(ls1)\n",
    "\n",
    "# # we want a 1D list of accessions, which will be held in ls2\n",
    "# ls2 = []\n",
    "\n",
    "# # for each cell (x,y) in df2\n",
    "# for y in range(len(ls1)):\n",
    "#     for x in range(len(ls1[0])):\n",
    "        \n",
    "#         # append them to ls2\n",
    "#         ls2.append(df2.iloc[x,y])\n",
    "\n",
    "# # coerce this into a 1-column DataFrame and write it out to a file\n",
    "# df3 = pd.DataFrame(ls2)\n",
    "# df3.to_csv('genotypes.csv', sep = ',', header = None, index = None)"
   ]
  },
  {
   "cell_type": "markdown",
   "id": "37b0f749",
   "metadata": {},
   "source": [
    "# Useful Stats Table\n",
    "In the kmersGWAS manual, it recommends that we generate a 'useful statistics table' to generally QC the results. The table should contain:   \n",
    "- the number of reads   \n",
    "- the number of unique canonized k-mers  \n",
    "- the number of non-canonized k-mers  \n",
    "- the number of k- mers with each type of flag (1,2, or 3)   \n",
    "\n",
    "These numbers can be used to generate plots to check things like number of reads vs. number of kmers, etc. "
   ]
  },
  {
   "cell_type": "code",
   "execution_count": 1,
   "id": "caf62c5e",
   "metadata": {},
   "outputs": [],
   "source": [
    "# There is some provided code for generating this table from the kGWASflow pipeline\n",
    "# so we'll start with those packages\n",
    "import csv\n",
    "import os, glob, shutil\n",
    "import pandas as pd\n",
    "import numpy as np\n",
    "import matplotlib.pyplot as plt\n",
    "import seaborn as sns\n",
    "import scipy as sp\n",
    "from scipy import stats\n",
    "import matplotlib.ticker as ticker"
   ]
  },
  {
   "cell_type": "code",
   "execution_count": 2,
   "id": "2ccebb76",
   "metadata": {},
   "outputs": [],
   "source": [
    "# we'll scrap all the stuff for the snakemake pipeline\n",
    "# but keep the stuff that's universally applicable\n",
    "\n",
    "# we need all the kmc_all.1 files from all the accessions\n",
    "# to do this, we'll get the list of all the directories in the kmersGWAS folder\n",
    "kmc_logs_path = \"/mnt/scratch/carrele1/kmersGWAS_dir\"\n",
    "\n",
    "# dir_names= os.listdir(kmc_logs_path)\n",
    "dir_names = ['BLV15', 'MCD09', 'RAP02', 'IFD02', 'AEM01', \n",
    "             'BER08', 'BER12', 'MED09', 'VER16', 'BRC09', 'MCD25',\n",
    "             'VRN05', 'CHC14', 'CND09', 'KTZ10', 'CND04', \n",
    "             'CHC16', 'BRC04', 'BLV24', 'MED06', 'BER21', 'VER04', 'LGL03', 'VER13',\n",
    "             'VRN01', 'BLV12', 'DDS15', 'VRN06', 'RAP06', 'BER11', 'MCD12', 'BER17', \n",
    "             'VER17', 'BLV05', 'BRC21', 'MCD17', 'VER10', 'CND14', \n",
    "             'OKA01', 'CND13', 'CND12', 'BER01', 'CND11', 'IFD17', 'BRC14', 'BRC13', 'BRC12', \n",
    "             'BRC11', 'KTZ06', 'VER14', 'MCD03', 'BRC06', 'CND06', \n",
    "             'CND01', 'DDS03', 'KTZ07', 'BER10', 'VER08', 'BRC01', 'BLV08', 'BER16', 'GND02', \n",
    "             'VER18', 'MED08', 'BLV18', 'KTZ08', 'RAP04', 'MCD18', 'BLV10', 'DDS05', 'KTZ09',\n",
    "             'BLV19', 'MED05', 'BRC24', 'VER02', 'BER04', 'MED02', 'CHC11', \n",
    "             'OKA07', 'BER15', 'CHC13', 'VER19', 'BER02', 'MCD05', 'DDS12', \n",
    "             'RAP01', 'CHC01', 'AEM03', 'BLV16', 'DDS06', 'CHC09', 'GND05', 'BLV02', 'CHC08', \n",
    "             'BER14', 'OKA04', 'GND07', 'DDS08', 'MCD02', 'BER20', 'CHC07', 'VER05', 'VER06', \n",
    "             'KTZ02', 'CND07', 'BER05', 'CND02', 'RAP05', 'MED04', 'BRC02', 'KTZ03', 'DDS11', \n",
    "             'BLV13', 'BER03', 'KTZ04', 'BLV07', 'MED01', 'BLV09', 'BER19', 'DDS01', 'KTZ05', \n",
    "             'AEM06', 'BRC10', 'AEM04', 'BRC23', 'OKA06', 'EDN03', 'LGL02', 'MCD04', 'MCD21', \n",
    "             'MCD13', 'VER09', 'RAP03', 'BLV21', 'CHC10', 'CHC12', 'MCD11', 'BER18', 'EDN01', \n",
    "             'BER06', 'BLV11', 'IFD03', 'OKA03', 'MCD01', 'VER03', 'DDS02', 'MCD14', 'GND01', \n",
    "             'MED03', 'BLV01', 'EDN04', 'IFD04', 'LGL06', 'MCD19', 'CHC15', 'DDS04', \n",
    "             'RAP07', 'AEM05', 'GND03', 'BRC08', 'CND08', 'BRC19', 'CND03', 'BRC18', 'BLV22', \n",
    "             'BRC03', 'BRC17', 'CND19', 'CND17', 'IFD05', 'BRC16', 'CND16', 'CND15', 'BRC15', \n",
    "             'KTZ11', 'VRN02', 'BRC20', 'EDN02', 'VRN07',\n",
    "             'BER09', 'OKA05', 'BLV04', 'BLV17', 'MCD24', 'BLV06', 'KTZ01', 'BER07', 'VER07', 'LGL05',\n",
    "             'IFD14', 'BRC22', 'MCD07', 'CHC06', 'VRN03', 'IFD07', 'VER11', 'CHC05', \n",
    "             'GND04', 'CND36', 'CHC04', 'BLV23', 'BER13', 'DDS07', 'OKA02', 'GND06', \n",
    "             'VER01', 'BLV14', 'BRC05', 'CHC03',  'VRN04',  \n",
    "             'IFD01', 'DDS09', 'CHC02']"
   ]
  },
  {
   "cell_type": "code",
   "execution_count": 3,
   "id": "8833ae0d",
   "metadata": {},
   "outputs": [],
   "source": [
    "## Define a function to generate k-mers count stats table \n",
    "# for each accession/sample. Accession name, no. total reads and no. of \n",
    "# unique k-mers as columns, samples are rows.\n",
    "def generate_kmers_stats_tab(dir_path, file_name, dir_names):\n",
    "    # Define lists to store values\n",
    "    unique_kmers=[] # list to store unique k-mers\n",
    "    total_reads=[] # list to store total reads\n",
    "    accessions=[] # list to store accession names\n",
    "        \n",
    "    # For each accession/sample gather accesssion name,\n",
    "    # from dir names and no. total reads and no. of unique \n",
    "    # k-mers from kmc log files.\n",
    "    for dir in dir_names: # for each accession/sample\n",
    "#         if os.path.isfile(dir_path + '/' + dir + '/' + file_name): # if kmc log file exists\n",
    "        df = pd.read_csv(dir_path + '/' + dir + '/' + file_name, header = None) # read kmc log file\n",
    "        df = df.drop(0, axis = 0)\n",
    "        df = df.iloc[:,0].str.split(':', expand=True)        \n",
    "#         print(df)\n",
    "        unique_kmers.append(df.loc[df.iloc[:, 0] == \"   No. of unique k-mers               \", 1].iloc[0].strip()) # append unique k-mers to list\n",
    "        total_reads.append(df.loc[df.iloc[:, 0] == \"   Total no. of reads                 \", 1].iloc[0].strip())  # append total reads to list\n",
    "        accessions.append(dir) # append accession name to list\n",
    "\n",
    "#     ## Create k-mers count stats table.\n",
    "    target_df = pd.DataFrame(\n",
    "            {'accessions': accessions,\n",
    "             'unique_kmers': unique_kmers,\n",
    "             'total_reads': total_reads\n",
    "            })\n",
    "\n",
    "#     ## Convert unique k-mers and total reads values to integer.\n",
    "    target_df[\"unique_kmers\"] = pd.to_numeric(target_df[\"unique_kmers\"]) #\n",
    "    target_df[\"total_reads\"] = pd.to_numeric(target_df[\"total_reads\"])\n",
    "    return target_df # return k-mers count stats table"
   ]
  },
  {
   "cell_type": "code",
   "execution_count": 4,
   "id": "f03a6fcc",
   "metadata": {},
   "outputs": [],
   "source": [
    "def plot_kmers_stats_scatter(target_df, out_file, plot_name):\n",
    "        \"\"\"\n",
    "        Plot the scatter plot with regression line.\n",
    "        \"\"\"\n",
    "        # Define x-axis and y-axis\n",
    "        X=target_df[\"unique_kmers\"] # Unique k-mers as x-axis\n",
    "        Y=target_df[\"total_reads\"] # Total reads as y-axis\n",
    "        # Plot scatter plot\n",
    "        plt.figure(figsize=(10, 10)) # set figure size\n",
    "        plt.scatter(X, Y, alpha=0.5, s=200) \n",
    "        slope, intercept = np.polyfit(X, Y, 1) # calculate regression line\n",
    "        plt.plot(X, slope*X + intercept,color=\"red\") # plot regression line\n",
    "        plt.xlabel(\"No. of unique kmers\", fontsize=24) # add x-axis label\n",
    "        plt.ylabel(\"No. of total reads\", fontsize=24) # add y-axis label\n",
    "        plt.xticks(fontsize = 18)\n",
    "        plt.yticks(fontsize = 18)\n",
    "        plt.title(plot_name) # add plot title\n",
    "        plt.tight_layout() # tight layout\n",
    "        plt.savefig(out_file, dpi=300) # save plot\n",
    "        plt.close() # close plot"
   ]
  },
  {
   "cell_type": "code",
   "execution_count": 5,
   "id": "fd738d7b",
   "metadata": {},
   "outputs": [],
   "source": [
    "# Define a function to plot the joint plot with regression line and pearson correlation coefficient.\n",
    "def plot_kmers_stats_joint(target_df, out_file, plot_name):\n",
    "    # plot joint plot\n",
    "    joint_plot= sns.jointplot(x=\"unique_kmers\", y=\"total_reads\", \n",
    "                                  data=target_df, # data\n",
    "                                  kind=\"reg\", # regression line\n",
    "                                  height=10,\n",
    "                                  joint_kws={'line_kws':{'color':'red'},\n",
    "                                             'scatter_kws': {'s': 150}})\n",
    "        \n",
    "    # pearson correlation coefficient\n",
    "    r, p = stats.pearsonr(target_df[\"unique_kmers\"], target_df[\"total_reads\"]) # calculate pearson correlation coefficient\n",
    "    phantom, = joint_plot.ax_joint.plot([], [], linestyle=\"\", alpha=0) # add pearson correlation coefficient to the legend\n",
    "    legend = joint_plot.ax_joint.legend([phantom],['r={:f}, p={:f}'.format(r,p)]) # add pearson correlation coefficient to the legend\n",
    "        \n",
    "    # add x-axis label, y-axis label and plot title\n",
    "    joint_plot.ax_joint.set_xlabel('No. of unique kmers', fontsize=24) # add x-axis label\n",
    "    joint_plot.ax_joint.set_ylabel('No. of total reads', fontsize=24) # add y-axis label\n",
    "    plt.figure(figsize=(10, 10)) # set figure size\n",
    "    joint_plot.ax_joint.xaxis.set_tick_params(labelsize=18)\n",
    "    joint_plot.ax_joint.yaxis.set_tick_params(labelsize=18)\n",
    "    plt.setp(legend.get_texts(), fontsize='14') # for legend text\n",
    "    joint_plot.fig.suptitle(plot_name, y = 1) # add plot title\n",
    "    joint_plot.fig.tight_layout() # tight layout\n",
    "    joint_plot.savefig(out_file, dpi=300) # save plot\n",
    "    plt.close() # close plot"
   ]
  },
  {
   "cell_type": "code",
   "execution_count": 6,
   "id": "30933a6d",
   "metadata": {},
   "outputs": [],
   "source": [
    "# Define a function to plot the distribution of k-mer counts for canonical and non-canonical k-mers.\n",
    "def plot_kmer_dist(target_df, out_file, plot_name):\n",
    "        # Plot the histogram of k-mer counts\n",
    "        plt.figure(figsize=(10, 10)) # set figure size\n",
    "        plt.hist(target_df[\"unique_kmers\"], \n",
    "                 bins=30, \n",
    "                 color=\"#86bf91\", \n",
    "                 alpha=0.5, \n",
    "                 edgecolor=\"black\",\n",
    "                 linewidth=1.2) #\n",
    "        plt.xlabel(\"No. of unique kmers\", fontsize=24) # add x-axis label\n",
    "        plt.ylabel(\"No. of samples\", fontsize=24) # add y-axis label\n",
    "        plt.xticks(fontsize = 18)\n",
    "        plt.yticks(fontsize = 18)\n",
    "        plt.title(plot_name, fontsize=24) # add plot title\n",
    "        plt.ticklabel_format(style='sci', axis='x', scilimits=(0,0)) # set x-axis to scientific notation\n",
    "        plt.gca().xaxis.set_major_formatter(plt.ScalarFormatter())\n",
    "        \n",
    "        # Add a boxed text indicating the total number of k-mers to the top right corner of the plot\n",
    "        textstr = 'Total no. of k-mers:\\n{:,}'.format(target_df[\"unique_kmers\"].sum())\n",
    "        # add box around the text\n",
    "        plt.gca().text(0.95, 0.95, textstr, \n",
    "                       transform=plt.gca().transAxes, \n",
    "                       fontsize=16,\n",
    "                       color=\"black\",\n",
    "                       verticalalignment='top', \n",
    "                       horizontalalignment='right',\n",
    "                       bbox=dict(facecolor='wheat', pad=10.0),  \n",
    "                       alpha=0.5)    \n",
    "                            \n",
    "        plt.tight_layout() # tight layout\n",
    "        plt.savefig(out_file, dpi=300) # save plot\n",
    "        plt.close() # close plot    \n"
   ]
  },
  {
   "cell_type": "code",
   "execution_count": 7,
   "id": "ed881f8b",
   "metadata": {},
   "outputs": [
    {
     "ename": "EmptyDataError",
     "evalue": "No columns to parse from file",
     "output_type": "error",
     "traceback": [
      "\u001b[0;31m---------------------------------------------------------------------------\u001b[0m",
      "\u001b[0;31mEmptyDataError\u001b[0m                            Traceback (most recent call last)",
      "Cell \u001b[0;32mIn[7], line 2\u001b[0m\n\u001b[1;32m      1\u001b[0m \u001b[38;5;66;03m# a cell for testing these functions as we build them\u001b[39;00m\n\u001b[0;32m----> 2\u001b[0m kmc_canon_stats \u001b[38;5;241m=\u001b[39m generate_kmers_stats_tab(dir_path\u001b[38;5;241m=\u001b[39mkmc_logs_path, \n\u001b[1;32m      3\u001b[0m                          file_name\u001b[38;5;241m=\u001b[39m\u001b[38;5;124m\"\u001b[39m\u001b[38;5;124mkmc_canon.1\u001b[39m\u001b[38;5;124m\"\u001b[39m, \n\u001b[1;32m      4\u001b[0m                          dir_names\u001b[38;5;241m=\u001b[39mdir_names)\n\u001b[1;32m      6\u001b[0m \u001b[38;5;66;03m# plot_kmers_stats_scatter(target_df=kmc_canon_stats,\u001b[39;00m\n\u001b[1;32m      7\u001b[0m \u001b[38;5;66;03m#                          out_file= \"QC_plot1\",\u001b[39;00m\n\u001b[1;32m      8\u001b[0m \u001b[38;5;66;03m#                          plot_name=\"Total Reads vs. Number of Unique k-mers\")\u001b[39;00m\n\u001b[0;32m   (...)\u001b[0m\n\u001b[1;32m     15\u001b[0m \u001b[38;5;66;03m#                          out_file= \"QC_plot3\",\u001b[39;00m\n\u001b[1;32m     16\u001b[0m \u001b[38;5;66;03m#                          plot_name=\"Total Reads vs. Number of Unique k-mers\")\u001b[39;00m\n\u001b[1;32m     20\u001b[0m kmc_canon_stats\n",
      "Cell \u001b[0;32mIn[3], line 15\u001b[0m, in \u001b[0;36mgenerate_kmers_stats_tab\u001b[0;34m(dir_path, file_name, dir_names)\u001b[0m\n\u001b[1;32m     10\u001b[0m     \u001b[38;5;66;03m# For each accession/sample gather accesssion name,\u001b[39;00m\n\u001b[1;32m     11\u001b[0m     \u001b[38;5;66;03m# from dir names and no. total reads and no. of unique \u001b[39;00m\n\u001b[1;32m     12\u001b[0m     \u001b[38;5;66;03m# k-mers from kmc log files.\u001b[39;00m\n\u001b[1;32m     13\u001b[0m     \u001b[38;5;28;01mfor\u001b[39;00m \u001b[38;5;28mdir\u001b[39m \u001b[38;5;129;01min\u001b[39;00m dir_names: \u001b[38;5;66;03m# for each accession/sample\u001b[39;00m\n\u001b[1;32m     14\u001b[0m \u001b[38;5;66;03m#         if os.path.isfile(dir_path + '/' + dir + '/' + file_name): # if kmc log file exists\u001b[39;00m\n\u001b[0;32m---> 15\u001b[0m         df \u001b[38;5;241m=\u001b[39m pd\u001b[38;5;241m.\u001b[39mread_csv(dir_path \u001b[38;5;241m+\u001b[39m \u001b[38;5;124m'\u001b[39m\u001b[38;5;124m/\u001b[39m\u001b[38;5;124m'\u001b[39m \u001b[38;5;241m+\u001b[39m \u001b[38;5;28mdir\u001b[39m \u001b[38;5;241m+\u001b[39m \u001b[38;5;124m'\u001b[39m\u001b[38;5;124m/\u001b[39m\u001b[38;5;124m'\u001b[39m \u001b[38;5;241m+\u001b[39m file_name, header \u001b[38;5;241m=\u001b[39m \u001b[38;5;28;01mNone\u001b[39;00m) \u001b[38;5;66;03m# read kmc log file\u001b[39;00m\n\u001b[1;32m     16\u001b[0m         df \u001b[38;5;241m=\u001b[39m df\u001b[38;5;241m.\u001b[39mdrop(\u001b[38;5;241m0\u001b[39m, axis \u001b[38;5;241m=\u001b[39m \u001b[38;5;241m0\u001b[39m)\n\u001b[1;32m     17\u001b[0m         df \u001b[38;5;241m=\u001b[39m df\u001b[38;5;241m.\u001b[39miloc[:,\u001b[38;5;241m0\u001b[39m]\u001b[38;5;241m.\u001b[39mstr\u001b[38;5;241m.\u001b[39msplit(\u001b[38;5;124m'\u001b[39m\u001b[38;5;124m:\u001b[39m\u001b[38;5;124m'\u001b[39m, expand\u001b[38;5;241m=\u001b[39m\u001b[38;5;28;01mTrue\u001b[39;00m)        \n",
      "File \u001b[0;32m~/anaconda3/lib/python3.11/site-packages/pandas/io/parsers/readers.py:912\u001b[0m, in \u001b[0;36mread_csv\u001b[0;34m(filepath_or_buffer, sep, delimiter, header, names, index_col, usecols, dtype, engine, converters, true_values, false_values, skipinitialspace, skiprows, skipfooter, nrows, na_values, keep_default_na, na_filter, verbose, skip_blank_lines, parse_dates, infer_datetime_format, keep_date_col, date_parser, date_format, dayfirst, cache_dates, iterator, chunksize, compression, thousands, decimal, lineterminator, quotechar, quoting, doublequote, escapechar, comment, encoding, encoding_errors, dialect, on_bad_lines, delim_whitespace, low_memory, memory_map, float_precision, storage_options, dtype_backend)\u001b[0m\n\u001b[1;32m    899\u001b[0m kwds_defaults \u001b[38;5;241m=\u001b[39m _refine_defaults_read(\n\u001b[1;32m    900\u001b[0m     dialect,\n\u001b[1;32m    901\u001b[0m     delimiter,\n\u001b[0;32m   (...)\u001b[0m\n\u001b[1;32m    908\u001b[0m     dtype_backend\u001b[38;5;241m=\u001b[39mdtype_backend,\n\u001b[1;32m    909\u001b[0m )\n\u001b[1;32m    910\u001b[0m kwds\u001b[38;5;241m.\u001b[39mupdate(kwds_defaults)\n\u001b[0;32m--> 912\u001b[0m \u001b[38;5;28;01mreturn\u001b[39;00m _read(filepath_or_buffer, kwds)\n",
      "File \u001b[0;32m~/anaconda3/lib/python3.11/site-packages/pandas/io/parsers/readers.py:577\u001b[0m, in \u001b[0;36m_read\u001b[0;34m(filepath_or_buffer, kwds)\u001b[0m\n\u001b[1;32m    574\u001b[0m _validate_names(kwds\u001b[38;5;241m.\u001b[39mget(\u001b[38;5;124m\"\u001b[39m\u001b[38;5;124mnames\u001b[39m\u001b[38;5;124m\"\u001b[39m, \u001b[38;5;28;01mNone\u001b[39;00m))\n\u001b[1;32m    576\u001b[0m \u001b[38;5;66;03m# Create the parser.\u001b[39;00m\n\u001b[0;32m--> 577\u001b[0m parser \u001b[38;5;241m=\u001b[39m TextFileReader(filepath_or_buffer, \u001b[38;5;241m*\u001b[39m\u001b[38;5;241m*\u001b[39mkwds)\n\u001b[1;32m    579\u001b[0m \u001b[38;5;28;01mif\u001b[39;00m chunksize \u001b[38;5;129;01mor\u001b[39;00m iterator:\n\u001b[1;32m    580\u001b[0m     \u001b[38;5;28;01mreturn\u001b[39;00m parser\n",
      "File \u001b[0;32m~/anaconda3/lib/python3.11/site-packages/pandas/io/parsers/readers.py:1407\u001b[0m, in \u001b[0;36mTextFileReader.__init__\u001b[0;34m(self, f, engine, **kwds)\u001b[0m\n\u001b[1;32m   1404\u001b[0m     \u001b[38;5;28mself\u001b[39m\u001b[38;5;241m.\u001b[39moptions[\u001b[38;5;124m\"\u001b[39m\u001b[38;5;124mhas_index_names\u001b[39m\u001b[38;5;124m\"\u001b[39m] \u001b[38;5;241m=\u001b[39m kwds[\u001b[38;5;124m\"\u001b[39m\u001b[38;5;124mhas_index_names\u001b[39m\u001b[38;5;124m\"\u001b[39m]\n\u001b[1;32m   1406\u001b[0m \u001b[38;5;28mself\u001b[39m\u001b[38;5;241m.\u001b[39mhandles: IOHandles \u001b[38;5;241m|\u001b[39m \u001b[38;5;28;01mNone\u001b[39;00m \u001b[38;5;241m=\u001b[39m \u001b[38;5;28;01mNone\u001b[39;00m\n\u001b[0;32m-> 1407\u001b[0m \u001b[38;5;28mself\u001b[39m\u001b[38;5;241m.\u001b[39m_engine \u001b[38;5;241m=\u001b[39m \u001b[38;5;28mself\u001b[39m\u001b[38;5;241m.\u001b[39m_make_engine(f, \u001b[38;5;28mself\u001b[39m\u001b[38;5;241m.\u001b[39mengine)\n",
      "File \u001b[0;32m~/anaconda3/lib/python3.11/site-packages/pandas/io/parsers/readers.py:1679\u001b[0m, in \u001b[0;36mTextFileReader._make_engine\u001b[0;34m(self, f, engine)\u001b[0m\n\u001b[1;32m   1676\u001b[0m     \u001b[38;5;28;01mraise\u001b[39;00m \u001b[38;5;167;01mValueError\u001b[39;00m(msg)\n\u001b[1;32m   1678\u001b[0m \u001b[38;5;28;01mtry\u001b[39;00m:\n\u001b[0;32m-> 1679\u001b[0m     \u001b[38;5;28;01mreturn\u001b[39;00m mapping[engine](f, \u001b[38;5;241m*\u001b[39m\u001b[38;5;241m*\u001b[39m\u001b[38;5;28mself\u001b[39m\u001b[38;5;241m.\u001b[39moptions)\n\u001b[1;32m   1680\u001b[0m \u001b[38;5;28;01mexcept\u001b[39;00m \u001b[38;5;167;01mException\u001b[39;00m:\n\u001b[1;32m   1681\u001b[0m     \u001b[38;5;28;01mif\u001b[39;00m \u001b[38;5;28mself\u001b[39m\u001b[38;5;241m.\u001b[39mhandles \u001b[38;5;129;01mis\u001b[39;00m \u001b[38;5;129;01mnot\u001b[39;00m \u001b[38;5;28;01mNone\u001b[39;00m:\n",
      "File \u001b[0;32m~/anaconda3/lib/python3.11/site-packages/pandas/io/parsers/c_parser_wrapper.py:93\u001b[0m, in \u001b[0;36mCParserWrapper.__init__\u001b[0;34m(self, src, **kwds)\u001b[0m\n\u001b[1;32m     90\u001b[0m \u001b[38;5;28;01mif\u001b[39;00m kwds[\u001b[38;5;124m\"\u001b[39m\u001b[38;5;124mdtype_backend\u001b[39m\u001b[38;5;124m\"\u001b[39m] \u001b[38;5;241m==\u001b[39m \u001b[38;5;124m\"\u001b[39m\u001b[38;5;124mpyarrow\u001b[39m\u001b[38;5;124m\"\u001b[39m:\n\u001b[1;32m     91\u001b[0m     \u001b[38;5;66;03m# Fail here loudly instead of in cython after reading\u001b[39;00m\n\u001b[1;32m     92\u001b[0m     import_optional_dependency(\u001b[38;5;124m\"\u001b[39m\u001b[38;5;124mpyarrow\u001b[39m\u001b[38;5;124m\"\u001b[39m)\n\u001b[0;32m---> 93\u001b[0m \u001b[38;5;28mself\u001b[39m\u001b[38;5;241m.\u001b[39m_reader \u001b[38;5;241m=\u001b[39m parsers\u001b[38;5;241m.\u001b[39mTextReader(src, \u001b[38;5;241m*\u001b[39m\u001b[38;5;241m*\u001b[39mkwds)\n\u001b[1;32m     95\u001b[0m \u001b[38;5;28mself\u001b[39m\u001b[38;5;241m.\u001b[39munnamed_cols \u001b[38;5;241m=\u001b[39m \u001b[38;5;28mself\u001b[39m\u001b[38;5;241m.\u001b[39m_reader\u001b[38;5;241m.\u001b[39munnamed_cols\n\u001b[1;32m     97\u001b[0m \u001b[38;5;66;03m# error: Cannot determine type of 'names'\u001b[39;00m\n",
      "File \u001b[0;32m~/anaconda3/lib/python3.11/site-packages/pandas/_libs/parsers.pyx:557\u001b[0m, in \u001b[0;36mpandas._libs.parsers.TextReader.__cinit__\u001b[0;34m()\u001b[0m\n",
      "\u001b[0;31mEmptyDataError\u001b[0m: No columns to parse from file"
     ]
    }
   ],
   "source": [
    "# a cell for testing these functions as we build them\n",
    "kmc_canon_stats = generate_kmers_stats_tab(dir_path=kmc_logs_path, \n",
    "                         file_name=\"kmc_canon.1\", \n",
    "                         dir_names=dir_names)\n",
    "\n",
    "# plot_kmers_stats_scatter(target_df=kmc_canon_stats,\n",
    "#                          out_file= \"QC_plot1\",\n",
    "#                          plot_name=\"Total Reads vs. Number of Unique k-mers\")\n",
    "\n",
    "# plot_kmers_stats_joint(target_df=kmc_canon_stats,\n",
    "#                          out_file= \"QC_plot2\",\n",
    "#                          plot_name=\"Total Reads vs. Number of Unique k-mers\")\n",
    "\n",
    "# plot_kmer_dist(target_df=kmc_canon_stats,\n",
    "#                          out_file= \"QC_plot3\",\n",
    "#                          plot_name=\"Total Reads vs. Number of Unique k-mers\")\n",
    "\n",
    "\n",
    "\n",
    "kmc_canon_stats"
   ]
  },
  {
   "cell_type": "markdown",
   "id": "97dabc8a",
   "metadata": {},
   "source": [
    "# Generating GWAS Output\n",
    "Again, making use of the kGWASflow scripts, we will generate output tables and figures to learn about the results of our k-mer based GWAS."
   ]
  },
  {
   "cell_type": "code",
   "execution_count": 1,
   "id": "c3148914",
   "metadata": {},
   "outputs": [],
   "source": [
    "import csv\n",
    "import os, glob, shutil\n",
    "import pandas as pd\n",
    "import numpy as np\n",
    "import sys\n",
    "import matplotlib.pyplot as plt"
   ]
  },
  {
   "cell_type": "code",
   "execution_count": 3,
   "id": "62ba156c",
   "metadata": {},
   "outputs": [],
   "source": [
    "# Input directory path for kmersGWAS results\n",
    "res_dir_path = os.path.dirname(\"/mnt/home/carrele1/css844/GWAS_dir/kmers/\")\n",
    "\n",
    "\n",
    "# Read the kmersGWAS results file (pass_threshold_5per)\n",
    "pass_threshold_5per = pd.read_csv(res_dir_path + '/pass_threshold_5per', \n",
    "                                      sep = \"\\t\")\n",
    "        \n",
    "# Read the pass_threshold_10per file\n",
    "pass_threshold_10per = pd.read_csv(res_dir_path + '/pass_threshold_10per',\n",
    "                                       sep = \"\\t\")\n",
    "\n",
    "# Get the permutation based p-value thresholds values for 5% and 10% \n",
    "threshold_5per = pd.read_csv(res_dir_path + '/threshold_5per',\n",
    "                                 header = None,\n",
    "                                 sep = \"\\t\", \n",
    "                                 names = ['threshold'])\n",
    "threshold_10per = pd.read_csv(res_dir_path + '/threshold_10per', \n",
    "                                 header = None, \n",
    "                                 sep = \"\\t\", \n",
    "                                 names = ['threshold'])\n",
    "\n",
    "# read the phenotype_value.assoc.txt.gz file\n",
    "pheno_val_assoc = pd.read_csv(res_dir_path + '/output/phenotype_value.assoc.txt.gz', \n",
    "                              compression = 'gzip',\n",
    "                              sep = \"\\t\")\n",
    "\n"
   ]
  },
  {
   "cell_type": "code",
   "execution_count": 4,
   "id": "cc8c5c7e",
   "metadata": {},
   "outputs": [],
   "source": [
    "# Phenotype name\n",
    "pheno = \"Period\"\n",
    "\n",
    "# Number of k-mers filtered\n",
    "kmers_number = 10 # this number doesn't mean anything, it's just to get everything else to run, we can figure out what it's supposed to be later\n",
    "\n"
   ]
  },
  {
   "cell_type": "code",
   "execution_count": 5,
   "id": "075383e7",
   "metadata": {},
   "outputs": [],
   "source": [
    "# Define a function to generate a table with the k-mers, p-values and p-value thresholds\n",
    "def generate_kmers_gwas_results_table(pass_threshold, threshold, pheno, output_file):\n",
    "    \n",
    "    # Generate an empty dataframe with the kmer, p-value and threshold\n",
    "    res_table = pd.DataFrame(columns=['kmers_pass_threshold', 'pval', 'pval_threshold'])\n",
    "        \n",
    "    # Fill the dataframe with the kmer, p-value, threshold, phenotype, -log10(p-value) and allele frequency\n",
    "    res_table['kmers_pass_threshold'] = pass_threshold['rs'].apply(lambda x: x.split('_')[0]) # get the kmer from the rs column\n",
    "\n",
    "    # Get the p-value from the p_lrt column and round it to 6 decimal places\n",
    "    res_table['pval'] = pass_threshold['p_lrt']\n",
    "        \n",
    "    # Get the -log10(p-value) from the p-value column\n",
    "    res_table['-log10(pval)'] = -np.log10(res_table['pval'])\n",
    "        \n",
    "    res_table['pval'] = res_table['pval'].map('{:.6e}'.format) # round to 6 decimal places\n",
    "    res_table['-log10(pval)'] = res_table['-log10(pval)'].map('{:.5f}'.format) # round to 5 decimal places\n",
    "\n",
    "    # Get the allele frequency from the af column \n",
    "    res_table['allele_freq'] = pass_threshold['af'] # add the allele frequency column\n",
    "\n",
    "    # Get the p-value threshold\n",
    "    res_table['pval_threshold'] = threshold['threshold'][0] # add the p-value threshold column\n",
    "    res_table['phenotype'] = pheno # add the phenotype column\n",
    "\n",
    "#     print(res_table.head())\n",
    "    \n",
    "# Save the table to a tsv file\n",
    "    print('Saving the results summary table to a tsv file...')\n",
    "    res_table.to_csv(output_file, index=False, \n",
    "                     sep='\\t', \n",
    "                     columns=['kmers_pass_threshold', 'phenotype', 'allele_freq', 'pval', '-log10(pval)', 'pval_threshold'])    \n",
    "    print('Generating the results summary table is done!')\n"
   ]
  },
  {
   "cell_type": "code",
   "execution_count": 17,
   "id": "d1129f40",
   "metadata": {},
   "outputs": [
    {
     "name": "stdout",
     "output_type": "stream",
     "text": [
      "Generating kmersGWAS summary table with k-mers that pass the 5% threshold...\n",
      "Saving the results summary table to a tsv file...\n",
      "Generating the results summary table is done!\n"
     ]
    }
   ],
   "source": [
    "# # generate the table with the k-mers that pass the 10% threshold\n",
    "# print(\"Generating kmersGWAS summary table with k-mers that pass the 10% threshold...\")\n",
    "# generate_kmers_gwas_results_table(pass_threshold = pass_threshold_10per, \n",
    "#                                       threshold = threshold_10per, \n",
    "#                                       pheno = pheno, \n",
    "#                                       output_file = \"10per_table.tsv\") \n",
    "\n",
    "# # generate the table with the k-mers that pass the 5% threshold\n",
    "# print(\"Generating kmersGWAS summary table with k-mers that pass the 5% threshold...\")\n",
    "# generate_kmers_gwas_results_table(pass_threshold = pass_threshold_5per, \n",
    "#                                       threshold = threshold_5per, pheno=pheno, \n",
    "#                                       output_file=\"5per_table.tsv\")"
   ]
  },
  {
   "cell_type": "code",
   "execution_count": 6,
   "id": "cb69982a",
   "metadata": {},
   "outputs": [],
   "source": [
    "# Define a function to plot the histogram of the -log10(p-value) values\n",
    "def plot_pval_histogram(pheno_val_assoc, threshold_5per, threshold_10per, kmers_number, pheno, out_dir): \n",
    "        \n",
    "    # If output directory does not exist, create it\n",
    "#     if not os.path.exists(out_dir):\n",
    "#         os.makedirs(out_dir)\n",
    "        \n",
    "    # Plot the histogram of the -log10(p-value) values\n",
    "    f, ax = plt.subplots(figsize=(16, 8), facecolor='w', edgecolor='k')\n",
    "    plt.hist(-np.log10(pheno_val_assoc['p_lrt']), bins=50, color='g', alpha=0.5)\n",
    "        \n",
    "    # Add labels to the axes\n",
    "    plt.xlabel('-log10(pval)', fontsize=24)\n",
    "    plt.ylabel('Frequency', fontsize=24)\n",
    "\n",
    "    # Add a vertical line to the histogram based on the 5% threshold\n",
    "    plt.axvline(x=threshold_5per['threshold'][0], color='r', linestyle='--')\n",
    "    # Add a caption to the right bottom corner of the outside of the plot\n",
    "    ax.text(1.0, -0.1, \"*Red dashed line indicates 5% family-wise error-rate threshold\", color='r', transform=ax.transAxes, ha='right', va='bottom', fontsize=12)\n",
    "        \n",
    "    # Add label to the top of the vertical line\n",
    "    ax.text(threshold_5per['threshold'][0]+0.3, 1, '5% threshold', \n",
    "                rotation=0, color='r', va='top' , ha='left', \n",
    "                bbox=dict(facecolor='w', edgecolor='r', boxstyle='round,pad=0.5'),\n",
    "                transform=ax.get_xaxis_transform(),\n",
    "                fontsize=12)\n",
    "        \n",
    "    # Add a vertical line to the histogram based on the 10% threshold\n",
    "    plt.axvline(x=threshold_10per['threshold'][0], color='b', linestyle='--')\n",
    "        \n",
    "    # Add a caption to the right bottom corner of the outside of the plot\n",
    "    ax.text(1.0, -0.13, \"*Blue dashed line indicates 10% family-wise error-rate threshold\", color='b', transform=ax.transAxes, ha='right', va='bottom', fontsize=12)\n",
    "    # Add label to the top of the vertical line\n",
    "    ax.text(threshold_10per['threshold'][0]-0.3, 1, '10% threshold', \n",
    "                rotation=0, color='b', va='top' , ha='right', \n",
    "                bbox=dict(facecolor='w', edgecolor='b', boxstyle='round,pad=0.5'),\n",
    "                transform=ax.get_xaxis_transform(),\n",
    "                fontsize=12)\n",
    "\n",
    "    # Add title to the histogram\n",
    "    plt.title('Histogram of (-log10) p-values - k-mers passing the first filtering step (n={kmers_num})'.format(kmers_num=kmers_number), \n",
    "                  fontsize=16, y=1.02)\n",
    "    plt.xticks(fontsize = 18)\n",
    "    plt.yticks(fontsize = 18)\n",
    "        \n",
    "    # Adjust the layout of the plot\n",
    "    plt.tight_layout() \n",
    "    print('Saving the histogram plot to a pdf file...')\n",
    "        \n",
    "    # Save the plot to a PDF file\n",
    "    plt.savefig(out_dir + \"/{pheno}.kmers_pass_first_filter.pval_hist.pdf\".format(pheno=pheno))\n",
    "    print(\"Generating the p-value histogram plot is done!\")"
   ]
  },
  {
   "cell_type": "code",
   "execution_count": 7,
   "id": "32ad02bb",
   "metadata": {},
   "outputs": [
    {
     "name": "stdout",
     "output_type": "stream",
     "text": [
      "Generating kmersGWAS summary table with k-mers that pass the 5% threshold...\n",
      "Saving the results summary table to a tsv file...\n",
      "Generating the results summary table is done!\n",
      "Generating kmersGWAS summary table with k-mers that pass the 10% threshold...\n",
      "Saving the results summary table to a tsv file...\n",
      "Generating the results summary table is done!\n",
      "Plotting the histogram of the -log10(p-value) values...\n",
      "Saving the histogram plot to a pdf file...\n",
      "Generating the p-value histogram plot is done!\n"
     ]
    },
    {
     "data": {
      "image/png": "[encoded data removed]",
      "text/plain": [
       "<Figure size 1600x800 with 1 Axes>"
      ]
     },
     "metadata": {},
     "output_type": "display_data"
    }
   ],
   "source": [
    "outdir = os.path.dirname(\"/mnt/home/carrele1/css844\")\n",
    "    \n",
    "# Check if there are k-mers that pass the 5% threshold\n",
    "if pass_threshold_5per.empty: # if no k-mers pass the 5% threshold\n",
    "    with open(outdir + \"/NO_KMERS_PASS_5PER_THRESHOLD_FOUND\", 'a'): # create a file to indicate that no k-mers pass the 5% threshold\n",
    "        print(\"No k-mers pass the 5% threshold.\") # print a message to the user\n",
    "\n",
    "# generate the table with the k-mers that pass the 5% threshold\n",
    "print(\"Generating kmersGWAS summary table with k-mers that pass the 5% threshold...\")\n",
    "generate_kmers_gwas_results_table(pass_threshold = pass_threshold_5per, \n",
    "                                      threshold = threshold_5per, pheno=pheno, \n",
    "                                      output_file=\"5per_table.tsv\")  \n",
    "    \n",
    "# Check if there are k-mers that pass the 10% threshold\n",
    "if pass_threshold_10per.empty: # if no k-mers pass the 10% threshold\n",
    "    with open(outdir + \"/NO_KMERS_PASS_10PER_THRESHOLD_FOUND\", 'a'): # create a file to indicate that no k-mers pass the 10% threshold\n",
    "        print(\"No k-mers pass the 10% threshold.\") # print a message to the user and exit the script\n",
    "\n",
    "# generate the table with the k-mers that pass the 10% threshold\n",
    "print(\"Generating kmersGWAS summary table with k-mers that pass the 10% threshold...\")\n",
    "generate_kmers_gwas_results_table(pass_threshold = pass_threshold_10per, \n",
    "                                      threshold = threshold_10per, \n",
    "                                      pheno = pheno, \n",
    "                                      output_file = \"10per_table.tsv\") \n",
    "    \n",
    "# if k-mers pass the 5% threshold or the 10% threshold \n",
    "if not pass_threshold_5per.empty or not pass_threshold_10per.empty:\n",
    "    \n",
    "    # Plot the histogram of the -log10(p-value) values\n",
    "    print(\"Plotting the histogram of the -log10(p-value) values...\")\n",
    "    plot_pval_histogram(pheno_val_assoc=pheno_val_assoc, \n",
    "                            threshold_5per=threshold_5per, \n",
    "                            threshold_10per=threshold_10per,\n",
    "                            kmers_number=kmers_number, \n",
    "                            pheno=pheno,\n",
    "                            out_dir = outdir)\n",
    "    \n",
    "    # if no k-mers pass the 5% threshold and no k-mers pass the 10% threshold\n",
    "if pass_threshold_5per.empty and pass_threshold_10per.empty:\n",
    "    # If output directory does not exist, create it\n",
    "#         if not os.path.exists(snakemake.output.pval_hist_dir):\n",
    "#             os.makedirs(snakemake.output.pval_hist_dir)\n",
    "        \n",
    "# Create a file to indicate that no k-mers pass the 5% threshold\n",
    "    with open(\"/mnt/home/carrele1/css844\" + \"/NO_KMERS_PASS_10PER_THRESHOLD_FOUND\", 'a'):\n",
    "        print(\"No k-mers pass the 5% or the 10% threshold. No plots will be generated.\") # print a message to the user and exit the script"
   ]
  },
  {
   "cell_type": "markdown",
   "id": "1ff93564",
   "metadata": {},
   "source": [
    "# Q-Q Plots\n"
   ]
  },
  {
   "cell_type": "code",
   "execution_count": 17,
   "id": "38e69d8e",
   "metadata": {
    "scrolled": true
   },
   "outputs": [
    {
     "data": {
      "image/png": "[encoded data removed]",
      "text/plain": [
       "<Figure size 800x600 with 1 Axes>"
      ]
     },
     "metadata": {},
     "output_type": "display_data"
    }
   ],
   "source": [
    "import numpy as np\n",
    "import matplotlib.pyplot as plt\n",
    "\n",
    "# Load test statistics from GEMMA output file (replace 'test_stats.txt' with your file)\n",
    "# test_stats = np.loadtxt('/mnt/home/carrele1/css844/GWAS_dir/kmers/output/phenotype_value.assoc.txt')\n",
    "\n",
    "df = pd.read_csv(\"/mnt/home/carrele1/css844/GWAS_dir/kmers/output/phenotype_value.assoc.txt\", sep = '\\t')\n",
    "test_stats = df['p_lrt']\n",
    "\n",
    "# Sort test statistics\n",
    "sorted_stats = np.sort(test_stats)\n",
    "\n",
    "# Compute expected quantiles\n",
    "n = len(sorted_stats)\n",
    "expected_quantiles = np.arange(1, n + 1) / (n + 1)\n",
    "\n",
    "# Plot Q-Q plot\n",
    "plt.figure(figsize=(8, 6))\n",
    "plt.scatter(expected_quantiles, sorted_stats, color='blue', s=5)\n",
    "plt.plot([0, 1], [0, 1], color='red', linestyle='--')\n",
    "plt.xlabel('Expected quantiles')\n",
    "plt.ylabel('Observed quantiles')\n",
    "plt.title('Q-Q Plot')\n",
    "plt.grid(True)\n",
    "plt.show()\n"
   ]
  },
  {
   "cell_type": "markdown",
   "id": "82eada3a",
   "metadata": {},
   "source": [
    "# Alignment\n",
    "In order to generate a Manhattan plot, we need to align the significant k-mers to the reference genome. If we find unaligned sequences, we perform local assembly to identify indels. "
   ]
  },
  {
   "cell_type": "code",
   "execution_count": 2,
   "id": "5a8276ae",
   "metadata": {},
   "outputs": [],
   "source": [
    "import csv\n",
    "import os, glob, shutil\n",
    "import pandas as pd\n",
    "import numpy as np\n",
    "import sys"
   ]
  },
  {
   "cell_type": "code",
   "execution_count": 10,
   "id": "baef6ce6",
   "metadata": {},
   "outputs": [],
   "source": [
    "# Input directory path for kmersGWAS results\n",
    "res_dir_path = os.path.dirname(\"/mnt/home/carrele1/css844/GWAS_dir/\")\n",
    "\n",
    "# Set the threshold for k-mers GWAS results (%5 or %10 family-wise error rate)\n",
    "threshold = 10\n",
    "\n",
    "# Define the output directory\n",
    "outdir = \"/mnt/home/carrele1/css844/\"\n",
    "# print(\"Output directory: \" + outdir)\n",
    "\n"
   ]
  },
  {
   "cell_type": "code",
   "execution_count": 13,
   "id": "977085d9",
   "metadata": {},
   "outputs": [],
   "source": [
    "# Define a function to fetch significant k-mers\n",
    "def fetch_kmers(input_dir, pheno, out_dir, threshold):\n",
    "    kmers_pass_threshold = pd.read_csv(input_dir + '/kmers/pass_threshold_{threshold}per'.\n",
    "                                           format(threshold=threshold),\n",
    "                               sep=\"\\t\") # read the k-mers that pass the threshold\n",
    "        \n",
    "    # Get significant k-mers without k-mer number\n",
    "    kmers_pass_threshold['rs']= kmers_pass_threshold['rs'].apply(lambda x: x.split('_')[0])\n",
    "    \n",
    "    # print(kmers_pass_threshold) # For debugging only\n",
    "    \n",
    "    # Write significant k-mers list in TEXT format \n",
    "    print(\"Writing significant k-mers list in TEXT format...\")\n",
    "    kmers_pass_threshold['rs'].to_csv(out_dir + \"/\" + pheno + \"_kmers_list.txt\", \n",
    "                                             index=False, \n",
    "                                             sep=\"\\t\", \n",
    "                                             header=None) # write the k-mers list in a text file\n",
    "\n",
    "    # Make a new column with k-mer number and its p_value (e.g. kmer1_8.543334e-11)\n",
    "    kmers_pass_threshold['kmer_name']= 'kmer' + (kmers_pass_threshold.index+1).astype(str) + '_' + kmers_pass_threshold['p_lrt'].astype(str)\n",
    "    \n",
    "    # Write significant k-mers list in FASTA format (based on: https://www.biostars.org/p/271977/)\n",
    "    # Fasta file output\n",
    "    fileOutput = open(out_dir + \"/\" + pheno + \"_kmers_list.fa\", \"w\")\n",
    "    \n",
    "    # Seq count\n",
    "    count = 1\n",
    "    \n",
    "    # Loop through each line in the input file\n",
    "    print(\"Writing significant k-mers list in FASTA format...\")\n",
    "    for index, row in kmers_pass_threshold.iterrows():           \n",
    "        #Output the header\n",
    "        fileOutput.write(\">\" + row['kmer_name'] + \"\\n\")\n",
    "        fileOutput.write(row['rs'] + \"\\n\")\n",
    "        count = count + 1\n",
    "  \n",
    "    #Close the input and output file\n",
    "    fileOutput.close()\n",
    "    "
   ]
  },
  {
   "cell_type": "code",
   "execution_count": 14,
   "id": "deeec37d",
   "metadata": {},
   "outputs": [
    {
     "name": "stdout",
     "output_type": "stream",
     "text": [
      "Writing significant k-mers list in TEXT format...\n",
      "Writing significant k-mers list in FASTA format...\n"
     ]
    }
   ],
   "source": [
    "# Fetch significant k-mers for the current phenotype\n",
    "fetch_kmers(input_dir=res_dir_path, pheno=\"Period\", out_dir=outdir , threshold=threshold)\n",
    "        "
   ]
  },
  {
   "cell_type": "markdown",
   "id": "846024db",
   "metadata": {},
   "source": [
    "# Manhattan Plot"
   ]
  },
  {
   "cell_type": "code",
   "execution_count": 1,
   "id": "3ced5a31",
   "metadata": {},
   "outputs": [],
   "source": [
    "# Do NOT run this command. It WILL crash the interactive session!\n",
    "# pip install pysam"
   ]
  },
  {
   "cell_type": "code",
   "execution_count": 1,
   "id": "5a469a18",
   "metadata": {},
   "outputs": [
    {
     "ename": "ModuleNotFoundError",
     "evalue": "No module named 'pysam'",
     "output_type": "error",
     "traceback": [
      "\u001b[0;31m---------------------------------------------------------------------------\u001b[0m",
      "\u001b[0;31mModuleNotFoundError\u001b[0m                       Traceback (most recent call last)",
      "Cell \u001b[0;32mIn[1], line 13\u001b[0m\n\u001b[1;32m     11\u001b[0m \u001b[38;5;28;01mfrom\u001b[39;00m \u001b[38;5;21;01mnatsort\u001b[39;00m \u001b[38;5;28;01mimport\u001b[39;00m natsorted\n\u001b[1;32m     12\u001b[0m \u001b[38;5;28;01mimport\u001b[39;00m \u001b[38;5;21;01mseaborn\u001b[39;00m \u001b[38;5;28;01mas\u001b[39;00m \u001b[38;5;21;01msns\u001b[39;00m\n\u001b[0;32m---> 13\u001b[0m \u001b[38;5;28;01mimport\u001b[39;00m \u001b[38;5;21;01mpysam\u001b[39;00m\n",
      "\u001b[0;31mModuleNotFoundError\u001b[0m: No module named 'pysam'"
     ]
    }
   ],
   "source": [
    "# import pandas and qmplot functions\n",
    "import csv\n",
    "import os, glob, shutil\n",
    "import re\n",
    "import sys\n",
    "import pandas as pd\n",
    "import numpy as np\n",
    "import matplotlib.pyplot as plt\n",
    "from qmplot import manhattanplot\n",
    "import natsort\n",
    "from natsort import natsorted\n",
    "import seaborn as sns\n",
    "import pysam"
   ]
  },
  {
   "cell_type": "code",
   "execution_count": 15,
   "id": "24025d4b",
   "metadata": {},
   "outputs": [
    {
     "ename": "NameError",
     "evalue": "name 'snakemake' is not defined",
     "output_type": "error",
     "traceback": [
      "\u001b[0;31m---------------------------------------------------------------------------\u001b[0m",
      "\u001b[0;31mNameError\u001b[0m                                 Traceback (most recent call last)",
      "Cell \u001b[0;32mIn[15], line 2\u001b[0m\n\u001b[1;32m      1\u001b[0m \u001b[38;5;66;03m# Read the alignment data \u001b[39;00m\n\u001b[0;32m----> 2\u001b[0m align_kmers_sam \u001b[38;5;241m=\u001b[39m pd\u001b[38;5;241m.\u001b[39mread_table(snakemake\u001b[38;5;241m.\u001b[39minput[\u001b[38;5;241m0\u001b[39m], \n\u001b[1;32m      3\u001b[0m                 sep\u001b[38;5;241m=\u001b[39m\u001b[38;5;124m'\u001b[39m\u001b[38;5;130;01m\\t\u001b[39;00m\u001b[38;5;124m'\u001b[39m, comment\u001b[38;5;241m=\u001b[39m\u001b[38;5;124m'\u001b[39m\u001b[38;5;124m@\u001b[39m\u001b[38;5;124m'\u001b[39m, header\u001b[38;5;241m=\u001b[39m\u001b[38;5;28;01mNone\u001b[39;00m,\n\u001b[1;32m      4\u001b[0m                 usecols\u001b[38;5;241m=\u001b[39m[\u001b[38;5;241m0\u001b[39m,\u001b[38;5;241m2\u001b[39m,\u001b[38;5;241m3\u001b[39m], names\u001b[38;5;241m=\u001b[39m[\u001b[38;5;124m'\u001b[39m\u001b[38;5;124mkmer_id\u001b[39m\u001b[38;5;124m'\u001b[39m, \u001b[38;5;124m'\u001b[39m\u001b[38;5;124mchr\u001b[39m\u001b[38;5;124m'\u001b[39m, \u001b[38;5;124m'\u001b[39m\u001b[38;5;124mbp\u001b[39m\u001b[38;5;124m'\u001b[39m])\n",
      "\u001b[0;31mNameError\u001b[0m: name 'snakemake' is not defined"
     ]
    }
   ],
   "source": [
    "# Read the alignment data \n",
    "align_kmers_sam = pd.read_table(\"/mnt/scratch/carrele1/potato_output.sam\", \n",
    "                sep='\\t', comment='@', header=None,\n",
    "                usecols=[0,2,3], names=['kmer_id', 'chr', 'bp'])\n",
    "        "
   ]
  },
  {
   "cell_type": "markdown",
   "id": "6bb0a39a",
   "metadata": {},
   "source": [
    "# Merge Individual Tables\n",
    "To generate a count-based k-mer table, we need to merge the individual count tables together. Since we have ~130 accessions, with count tables of size ~33GB, this needs to be done efficiently. "
   ]
  },
  {
   "cell_type": "code",
   "execution_count": 1,
   "id": "3b490fbf",
   "metadata": {},
   "outputs": [],
   "source": [
    "import pandas as pd"
   ]
  },
  {
   "cell_type": "code",
   "execution_count": null,
   "id": "876850ae",
   "metadata": {},
   "outputs": [],
   "source": [
    "df = pd.read_csv(\"/mnt/scratch/carrele1/kmersGWAS_dir/AEM01/AEM01.txt\")"
   ]
  }
 ],
 "metadata": {
  "kernelspec": {
   "display_name": "Python 3 (ipykernel)",
   "language": "python",
   "name": "python3"
  },
  "language_info": {
   "codemirror_mode": {
    "name": "ipython",
    "version": 3
   },
   "file_extension": ".py",
   "mimetype": "text/x-python",
   "name": "python",
   "nbconvert_exporter": "python",
   "pygments_lexer": "ipython3",
   "version": "3.11.5"
  }
 },
 "nbformat": 4,
 "nbformat_minor": 5
}
